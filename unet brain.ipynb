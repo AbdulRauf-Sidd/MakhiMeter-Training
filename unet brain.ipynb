{
 "cells": [
  {
   "cell_type": "code",
   "execution_count": 2,
   "metadata": {},
   "outputs": [
    {
     "name": "stderr",
     "output_type": "stream",
     "text": [
      "2024-12-26 07:57:20.373944: E external/local_xla/xla/stream_executor/cuda/cuda_fft.cc:485] Unable to register cuFFT factory: Attempting to register factory for plugin cuFFT when one has already been registered\n",
      "2024-12-26 07:57:20.507899: E external/local_xla/xla/stream_executor/cuda/cuda_dnn.cc:8454] Unable to register cuDNN factory: Attempting to register factory for plugin cuDNN when one has already been registered\n",
      "2024-12-26 07:57:20.548869: E external/local_xla/xla/stream_executor/cuda/cuda_blas.cc:1452] Unable to register cuBLAS factory: Attempting to register factory for plugin cuBLAS when one has already been registered\n",
      "2024-12-26 07:57:20.816336: I tensorflow/core/platform/cpu_feature_guard.cc:210] This TensorFlow binary is optimized to use available CPU instructions in performance-critical operations.\n",
      "To enable the following instructions: AVX2 FMA, in other operations, rebuild TensorFlow with the appropriate compiler flags.\n"
     ]
    }
   ],
   "source": [
    "from keras.utils import normalize\n",
    "from unet_model import multi_unet_model\n",
    "from unet512 import unet\n",
    "import os\n",
    "import glob\n",
    "import cv2\n",
    "import numpy as np\n",
    "from sklearn.preprocessing import LabelEncoder\n",
    "from matplotlib import pyplot as plt"
   ]
  },
  {
   "cell_type": "code",
   "execution_count": 9,
   "metadata": {},
   "outputs": [],
   "source": [
    "# Define constants\n",
    "SIZE_X = 256 \n",
    "SIZE_Y = 256\n",
    "n_classes = 2  # Number of classes for segmentation\n",
    "\n",
    "# Capture training image info as a list\n",
    "train_images = []\n",
    "for directory_path in glob.glob(\"/home/abdulrauf/Projects/MakhiMeter-Training/data/brain/rgb aug/\"):\n",
    "    for img_path in glob.glob(os.path.join(directory_path, \"*.png\")):\n",
    "        img = cv2.imread(img_path, 0)  # Read as grayscale\n",
    "        if img is not None:  # Ensure the image is successfully read\n",
    "            img = cv2.resize(img, (SIZE_X, SIZE_Y))  # Resize to uniform size\n",
    "            train_images.append(img)\n",
    "        \n",
    "# Convert list to array for machine learning processing\n",
    "train_images = np.array(train_images)\n",
    "\n",
    "# Capture mask/label info as a list\n",
    "train_masks = []\n",
    "for directory_path in glob.glob(\"/home/abdulrauf/Projects/MakhiMeter-Training/data/brain/labeled encoded/\"):\n",
    "    for mask_path in glob.glob(os.path.join(directory_path, \"*.png\")):\n",
    "        mask = cv2.imread(mask_path, 0)  # Read mask as grayscale\n",
    "        if mask is not None:  # Ensure the image is successfully read\n",
    "            mask = cv2.resize(mask, (SIZE_X, SIZE_Y))  # Resize to uniform size\n",
    "            train_masks.append(img)\n",
    "        \n",
    "# Convert list to array for machine learning processing\n",
    "train_masks = np.array(train_masks)"
   ]
  },
  {
   "cell_type": "code",
   "execution_count": 10,
   "metadata": {},
   "outputs": [],
   "source": [
    "# n, h, w = train_masks.shape  # Get shape of the mask data\n",
    "# train_masks_reshaped = train_masks.reshape(-1, 1)  # Flatten the mask to a 2D array\n",
    "\n",
    "# # Initialize and apply label encoder\n",
    "# labelencoder = LabelEncoder()\n",
    "\n",
    "# # Fit label encoder and transform mask values to sequential integers\n",
    "# train_masks_reshaped_encoded = labelencoder.fit_transform(train_masks_reshaped)\n",
    "\n",
    "# # Reshape back to the original mask shape\n",
    "# train_masks_encoded_original_shape = train_masks_reshaped_encoded.reshape(n, h, w)\n",
    "\n",
    "# # Check unique labels\n",
    "# unique_labels = np.unique(train_masks_encoded_original_shape)\n",
    "# print(\"Unique labels in the encoded mask:\", unique_labels)\n",
    "\n",
    "# # Print the mapping of original pixel values to encoded labels\n",
    "# print(\"Label mapping:\")\n",
    "# for original, encoded in zip(labelencoder.classes_, range(len(labelencoder.classes_))):\n",
    "#     print(f\"Original value {original} -> Encoded label {encoded}\")\n",
    "batch_size = 32\n",
    "\n",
    "train_images = np.expand_dims(train_images, axis=3)\n",
    "for i in range(0, len(train_images), batch_size):\n",
    "    train_images[i:i+batch_size] = train_images[i:i+batch_size] / 255.0\n",
    "\n",
    "train_images = normalize(train_images, axis=1)\n",
    "\n",
    "# train_masks_input = np.expand_dims(train_masks_encoded_original_shape, axis=3)"
   ]
  },
  {
   "cell_type": "code",
   "execution_count": 11,
   "metadata": {},
   "outputs": [
    {
     "name": "stdout",
     "output_type": "stream",
     "text": [
      "Class values in the dataset are ...  [  0   1   2   3   4   5   6   7   8   9  10  11  12  13  14  15  16  17\n",
      "  18  19  20  21  22  23  24  25  26  27  28  29  30  31  32  33  34  35\n",
      "  36  37  38  39  40  41  42  43  44  45  46  47  48  49  50  51  52  53\n",
      "  54  55  56  57  58  59  60  61  62  63  64  65  66  67  68  69  70  71\n",
      "  72  73  74  75  76  77  78  79  80  81  82  83  84  85  86  87  88  89\n",
      "  90  91  92  93  94  95  96  97  98  99 100 101 102 103 104 105 106 107\n",
      " 108 109 110 111 112 113 114 115 116 117 118 119 120 121 122 123 124 125\n",
      " 126 127 128 129 130 131 132 133 134 135 136 137 138 139 140 141 142 143\n",
      " 144 145 146 147 148 149 150 151 152 153 154 155 156 157 158 159 160 161\n",
      " 162 163 164 165 166 167 168 169 170 171 172 173 174 175 176 177 178 179\n",
      " 180 181 182 183 184 185 186 187 188 189 190 191 192 193 194 195 196 197\n",
      " 198 199 200 201 202 203 204 205 206 207 208 209 210 211 212 213 214 215\n",
      " 216 217 218 219 220 221 222 223 224 225 226 227 228 229 230 231 232 233\n",
      " 234 235 236 237 238 239 240 241 242 243 244 245 246 247 248 249 250 251\n",
      " 252 253 254]\n"
     ]
    },
    {
     "ename": "IndexError",
     "evalue": "index 4 is out of bounds for axis 1 with size 2",
     "output_type": "error",
     "traceback": [
      "\u001b[0;31m---------------------------------------------------------------------------\u001b[0m",
      "\u001b[0;31mIndexError\u001b[0m                                Traceback (most recent call last)",
      "Cell \u001b[0;32mIn[11], line 10\u001b[0m\n\u001b[1;32m      7\u001b[0m \u001b[38;5;28mprint\u001b[39m(\u001b[38;5;124m\"\u001b[39m\u001b[38;5;124mClass values in the dataset are ... \u001b[39m\u001b[38;5;124m\"\u001b[39m, np\u001b[38;5;241m.\u001b[39munique(y_train))  \u001b[38;5;66;03m# 0 is the background/few unlabeled \u001b[39;00m\n\u001b[1;32m      9\u001b[0m \u001b[38;5;28;01mfrom\u001b[39;00m \u001b[38;5;21;01mkeras\u001b[39;00m\u001b[38;5;21;01m.\u001b[39;00m\u001b[38;5;21;01mutils\u001b[39;00m \u001b[38;5;28;01mimport\u001b[39;00m to_categorical\n\u001b[0;32m---> 10\u001b[0m train_masks_cat \u001b[38;5;241m=\u001b[39m \u001b[43mto_categorical\u001b[49m\u001b[43m(\u001b[49m\u001b[43my_train\u001b[49m\u001b[43m,\u001b[49m\u001b[43m \u001b[49m\u001b[43mnum_classes\u001b[49m\u001b[38;5;241;43m=\u001b[39;49m\u001b[43mn_classes\u001b[49m\u001b[43m)\u001b[49m\n\u001b[1;32m     11\u001b[0m y_train_cat \u001b[38;5;241m=\u001b[39m train_masks_cat\u001b[38;5;241m.\u001b[39mreshape((y_train\u001b[38;5;241m.\u001b[39mshape[\u001b[38;5;241m0\u001b[39m], y_train\u001b[38;5;241m.\u001b[39mshape[\u001b[38;5;241m1\u001b[39m], y_train\u001b[38;5;241m.\u001b[39mshape[\u001b[38;5;241m2\u001b[39m], n_classes))\n\u001b[1;32m     15\u001b[0m test_masks_cat \u001b[38;5;241m=\u001b[39m to_categorical(y_test, num_classes\u001b[38;5;241m=\u001b[39mn_classes)\n",
      "File \u001b[0;32m~/Projects/anaconda3/envs/tf_gpu/lib/python3.10/site-packages/keras/src/utils/numerical_utils.py:99\u001b[0m, in \u001b[0;36mto_categorical\u001b[0;34m(x, num_classes)\u001b[0m\n\u001b[1;32m     97\u001b[0m batch_size \u001b[38;5;241m=\u001b[39m x\u001b[38;5;241m.\u001b[39mshape[\u001b[38;5;241m0\u001b[39m]\n\u001b[1;32m     98\u001b[0m categorical \u001b[38;5;241m=\u001b[39m np\u001b[38;5;241m.\u001b[39mzeros((batch_size, num_classes))\n\u001b[0;32m---> 99\u001b[0m \u001b[43mcategorical\u001b[49m\u001b[43m[\u001b[49m\u001b[43mnp\u001b[49m\u001b[38;5;241;43m.\u001b[39;49m\u001b[43marange\u001b[49m\u001b[43m(\u001b[49m\u001b[43mbatch_size\u001b[49m\u001b[43m)\u001b[49m\u001b[43m,\u001b[49m\u001b[43m \u001b[49m\u001b[43mx\u001b[49m\u001b[43m]\u001b[49m \u001b[38;5;241m=\u001b[39m \u001b[38;5;241m1\u001b[39m\n\u001b[1;32m    100\u001b[0m output_shape \u001b[38;5;241m=\u001b[39m input_shape \u001b[38;5;241m+\u001b[39m (num_classes,)\n\u001b[1;32m    101\u001b[0m categorical \u001b[38;5;241m=\u001b[39m np\u001b[38;5;241m.\u001b[39mreshape(categorical, output_shape)\n",
      "\u001b[0;31mIndexError\u001b[0m: index 4 is out of bounds for axis 1 with size 2"
     ]
    }
   ],
   "source": [
    "from sklearn.model_selection import train_test_split\n",
    "X1, X_test, y1, y_test = train_test_split(train_images, train_masks, test_size = 0.10, random_state = 0)\n",
    "\n",
    "#Further split training data t a smaller subset for quick testing of models\n",
    "X_train, X_do_not_use, y_train, y_do_not_use = train_test_split(X1, y1, test_size = 0.2, random_state = 0)\n",
    "\n",
    "print(\"Class values in the dataset are ... \", np.unique(y_train))  # 0 is the background/few unlabeled \n",
    "\n",
    "from keras.utils import to_categorical\n",
    "train_masks_cat = to_categorical(y_train, num_classes=n_classes)\n",
    "y_train_cat = train_masks_cat.reshape((y_train.shape[0], y_train.shape[1], y_train.shape[2], n_classes))\n",
    "\n",
    "\n",
    "\n",
    "test_masks_cat = to_categorical(y_test, num_classes=n_classes)\n",
    "y_test_cat = test_masks_cat.reshape((y_test.shape[0], y_test.shape[1], y_test.shape[2], n_classes))"
   ]
  },
  {
   "cell_type": "code",
   "execution_count": null,
   "metadata": {},
   "outputs": [
    {
     "ename": "NameError",
     "evalue": "name 'n_classes' is not defined",
     "output_type": "error",
     "traceback": [
      "\u001b[0;31m---------------------------------------------------------------------------\u001b[0m",
      "\u001b[0;31mNameError\u001b[0m                                 Traceback (most recent call last)",
      "Cell \u001b[0;32mIn[4], line 18\u001b[0m\n\u001b[1;32m     15\u001b[0m \u001b[38;5;28;01mdef\u001b[39;00m \u001b[38;5;21mget_model2\u001b[39m():\n\u001b[1;32m     16\u001b[0m     \u001b[38;5;28;01mreturn\u001b[39;00m unet(n_class\u001b[38;5;241m=\u001b[39mn_classes, input_size\u001b[38;5;241m=\u001b[39m(IMG_HEIGHT, IMG_WIDTH, IMG_CHANNELS))\n\u001b[0;32m---> 18\u001b[0m model \u001b[38;5;241m=\u001b[39m \u001b[43mget_model2\u001b[49m\u001b[43m(\u001b[49m\u001b[43m)\u001b[49m\n\u001b[1;32m     19\u001b[0m model\u001b[38;5;241m.\u001b[39mcompile(optimizer\u001b[38;5;241m=\u001b[39m\u001b[38;5;124m'\u001b[39m\u001b[38;5;124madam\u001b[39m\u001b[38;5;124m'\u001b[39m, loss\u001b[38;5;241m=\u001b[39m\u001b[38;5;124m'\u001b[39m\u001b[38;5;124mcategorical_crossentropy\u001b[39m\u001b[38;5;124m'\u001b[39m, metrics\u001b[38;5;241m=\u001b[39m[\u001b[38;5;124m'\u001b[39m\u001b[38;5;124maccuracy\u001b[39m\u001b[38;5;124m'\u001b[39m])\n\u001b[1;32m     20\u001b[0m model\u001b[38;5;241m.\u001b[39msummary()\n",
      "Cell \u001b[0;32mIn[4], line 16\u001b[0m, in \u001b[0;36mget_model2\u001b[0;34m()\u001b[0m\n\u001b[1;32m     15\u001b[0m \u001b[38;5;28;01mdef\u001b[39;00m \u001b[38;5;21mget_model2\u001b[39m():\n\u001b[0;32m---> 16\u001b[0m     \u001b[38;5;28;01mreturn\u001b[39;00m unet(n_class\u001b[38;5;241m=\u001b[39m\u001b[43mn_classes\u001b[49m, input_size\u001b[38;5;241m=\u001b[39m(IMG_HEIGHT, IMG_WIDTH, IMG_CHANNELS))\n",
      "\u001b[0;31mNameError\u001b[0m: name 'n_classes' is not defined"
     ]
    }
   ],
   "source": [
    "# from sklearn.utils import class_weight\n",
    "# class_weights = class_weight.compute_class_weight('balanced',\n",
    "#                                                  np.unique(train_masks_reshaped_encoded),\n",
    "#                                                  train_masks_reshaped_encoded)\n",
    "# print(\"Class weights are...:\", class_weights)\n",
    "\n",
    "\n",
    "IMG_HEIGHT = X_train.shape[1]\n",
    "IMG_WIDTH  = X_train.shape[2]\n",
    "IMG_CHANNELS = X_train.shape[3]\n",
    "\n",
    "def get_model():\n",
    "    return multi_unet_model(n_classes=n_classes, IMG_HEIGHT=IMG_HEIGHT, IMG_WIDTH=IMG_WIDTH, IMG_CHANNELS=IMG_CHANNELS)\n",
    "\n",
    "def get_model2():\n",
    "    return unet(n_class=n_classes, input_size=(IMG_HEIGHT, IMG_WIDTH, IMG_CHANNELS))\n",
    "\n",
    "model = get_model2()\n",
    "model.compile(optimizer='adam', loss='categorical_crossentropy', metrics=['accuracy'])\n",
    "model.summary()\n",
    "\n",
    "#If starting with pre-trained weights. \n",
    "#model.load_weights('???.hdf5')\n",
    "\n"
   ]
  },
  {
   "cell_type": "code",
   "execution_count": 6,
   "metadata": {},
   "outputs": [
    {
     "name": "stdout",
     "output_type": "stream",
     "text": [
      "Epoch 1/50\n"
     ]
    },
    {
     "name": "stderr",
     "output_type": "stream",
     "text": [
      "WARNING: All log messages before absl::InitializeLog() is called are written to STDERR\n",
      "I0000 00:00:1729883130.675206    5354 service.cc:146] XLA service 0x79de1808ace0 initialized for platform CUDA (this does not guarantee that XLA will be used). Devices:\n",
      "I0000 00:00:1729883130.675234    5354 service.cc:154]   StreamExecutor device (0): NVIDIA GeForce GTX 1050, Compute Capability 6.1\n",
      "2024-10-26 00:05:30.961666: I tensorflow/compiler/mlir/tensorflow/utils/dump_mlir_util.cc:268] disabling MLIR crash reproducer, set env var `MLIR_CRASH_REPRODUCER_DIRECTORY` to enable.\n",
      "2024-10-26 00:05:32.323238: I external/local_xla/xla/stream_executor/cuda/cuda_dnn.cc:531] Loaded cuDNN version 8907\n",
      "2024-10-26 00:06:02.927594: I external/local_xla/xla/stream_executor/cuda/cuda_asm_compiler.cc:393] ptxas warning : Registers are spilled to local memory in function 'loop_add_subtract_fusion_13', 4 bytes spill stores, 12 bytes spill loads\n",
      "ptxas warning : Registers are spilled to local memory in function 'loop_add_subtract_fusion_8', 4 bytes spill stores, 12 bytes spill loads\n",
      "ptxas warning : Registers are spilled to local memory in function 'loop_add_subtract_fusion_10', 4 bytes spill stores, 12 bytes spill loads\n",
      "ptxas warning : Registers are spilled to local memory in function 'loop_add_subtract_fusion_11', 4 bytes spill stores, 12 bytes spill loads\n",
      "ptxas warning : Registers are spilled to local memory in function 'loop_add_subtract_fusion_14', 4 bytes spill stores, 12 bytes spill loads\n",
      "ptxas warning : Registers are spilled to local memory in function 'loop_add_subtract_fusion_9', 4 bytes spill stores, 12 bytes spill loads\n",
      "ptxas warning : Registers are spilled to local memory in function 'loop_add_subtract_fusion_12', 4 bytes spill stores, 12 bytes spill loads\n",
      "\n",
      "I0000 00:00:1729883162.997187    5354 device_compiler.h:188] Compiled cluster using XLA!  This line is logged at most once for the lifetime of the process.\n"
     ]
    },
    {
     "name": "stdout",
     "output_type": "stream",
     "text": [
      "\u001b[1m43/43\u001b[0m \u001b[32m━━━━━━━━━━━━━━━━━━━━\u001b[0m\u001b[37m\u001b[0m \u001b[1m0s\u001b[0m 720ms/step - accuracy: 0.7064 - loss: 0.8388"
     ]
    },
    {
     "name": "stderr",
     "output_type": "stream",
     "text": [
      "2024-10-26 00:06:33.404743: I external/local_xla/xla/stream_executor/cuda/cuda_asm_compiler.cc:393] ptxas warning : Registers are spilled to local memory in function 'loop_add_subtract_fusion_13', 4 bytes spill stores, 12 bytes spill loads\n",
      "ptxas warning : Registers are spilled to local memory in function 'loop_add_subtract_fusion_8', 4 bytes spill stores, 12 bytes spill loads\n",
      "ptxas warning : Registers are spilled to local memory in function 'loop_add_subtract_fusion_10', 4 bytes spill stores, 12 bytes spill loads\n",
      "ptxas warning : Registers are spilled to local memory in function 'loop_add_subtract_fusion_11', 4 bytes spill stores, 12 bytes spill loads\n",
      "ptxas warning : Registers are spilled to local memory in function 'loop_add_subtract_fusion_14', 4 bytes spill stores, 12 bytes spill loads\n",
      "ptxas warning : Registers are spilled to local memory in function 'loop_add_subtract_fusion_9', 4 bytes spill stores, 12 bytes spill loads\n",
      "ptxas warning : Registers are spilled to local memory in function 'loop_add_subtract_fusion_12', 4 bytes spill stores, 12 bytes spill loads\n",
      "\n",
      "2024-10-26 00:06:37.359737: W external/local_tsl/tsl/framework/bfc_allocator.cc:291] Allocator (GPU_0_bfc) ran out of memory trying to allocate 2.28GiB with freed_by_count=0. The caller indicates that this is not a failure, but this may mean that there could be performance gains if more memory were available.\n",
      "2024-10-26 00:06:38.300295: W external/local_tsl/tsl/framework/bfc_allocator.cc:291] Allocator (GPU_0_bfc) ran out of memory trying to allocate 2.17GiB with freed_by_count=0. The caller indicates that this is not a failure, but this may mean that there could be performance gains if more memory were available.\n",
      "2024-10-26 00:06:39.520153: W external/local_tsl/tsl/framework/bfc_allocator.cc:291] Allocator (GPU_0_bfc) ran out of memory trying to allocate 4.33GiB with freed_by_count=0. The caller indicates that this is not a failure, but this may mean that there could be performance gains if more memory were available.\n",
      "2024-10-26 00:06:40.599198: W external/local_tsl/tsl/framework/bfc_allocator.cc:291] Allocator (GPU_0_bfc) ran out of memory trying to allocate 4.33GiB with freed_by_count=0. The caller indicates that this is not a failure, but this may mean that there could be performance gains if more memory were available.\n",
      "2024-10-26 00:06:41.104919: W external/local_tsl/tsl/framework/bfc_allocator.cc:291] Allocator (GPU_0_bfc) ran out of memory trying to allocate 4.55GiB with freed_by_count=0. The caller indicates that this is not a failure, but this may mean that there could be performance gains if more memory were available.\n",
      "2024-10-26 00:06:42.317075: W external/local_tsl/tsl/framework/bfc_allocator.cc:291] Allocator (GPU_0_bfc) ran out of memory trying to allocate 4.55GiB with freed_by_count=0. The caller indicates that this is not a failure, but this may mean that there could be performance gains if more memory were available.\n",
      "2024-10-26 00:06:47.702220: W external/local_tsl/tsl/framework/bfc_allocator.cc:291] Allocator (GPU_0_bfc) ran out of memory trying to allocate 2.25GiB with freed_by_count=0. The caller indicates that this is not a failure, but this may mean that there could be performance gains if more memory were available.\n",
      "2024-10-26 00:06:48.415656: W external/local_tsl/tsl/framework/bfc_allocator.cc:291] Allocator (GPU_0_bfc) ran out of memory trying to allocate 2.16GiB with freed_by_count=0. The caller indicates that this is not a failure, but this may mean that there could be performance gains if more memory were available.\n",
      "2024-10-26 00:06:49.415781: W external/local_tsl/tsl/framework/bfc_allocator.cc:291] Allocator (GPU_0_bfc) ran out of memory trying to allocate 4.30GiB with freed_by_count=0. The caller indicates that this is not a failure, but this may mean that there could be performance gains if more memory were available.\n",
      "2024-10-26 00:06:50.273693: W external/local_tsl/tsl/framework/bfc_allocator.cc:291] Allocator (GPU_0_bfc) ran out of memory trying to allocate 4.30GiB with freed_by_count=0. The caller indicates that this is not a failure, but this may mean that there could be performance gains if more memory were available.\n"
     ]
    },
    {
     "name": "stdout",
     "output_type": "stream",
     "text": [
      "\u001b[1m43/43\u001b[0m \u001b[32m━━━━━━━━━━━━━━━━━━━━\u001b[0m\u001b[37m\u001b[0m \u001b[1m91s\u001b[0m 1s/step - accuracy: 0.7079 - loss: 0.8343 - val_accuracy: 0.6959 - val_loss: 1.5917\n",
      "Epoch 2/50\n",
      "\u001b[1m43/43\u001b[0m \u001b[32m━━━━━━━━━━━━━━━━━━━━\u001b[0m\u001b[37m\u001b[0m \u001b[1m16s\u001b[0m 359ms/step - accuracy: 0.8389 - loss: 0.4343 - val_accuracy: 0.2805 - val_loss: 2.7770\n",
      "Epoch 3/50\n",
      "\u001b[1m43/43\u001b[0m \u001b[32m━━━━━━━━━━━━━━━━━━━━\u001b[0m\u001b[37m\u001b[0m \u001b[1m21s\u001b[0m 479ms/step - accuracy: 0.8889 - loss: 0.3001 - val_accuracy: 0.4327 - val_loss: 2.1149\n",
      "Epoch 4/50\n",
      "\u001b[1m43/43\u001b[0m \u001b[32m━━━━━━━━━━━━━━━━━━━━\u001b[0m\u001b[37m\u001b[0m \u001b[1m25s\u001b[0m 571ms/step - accuracy: 0.9323 - loss: 0.1948 - val_accuracy: 0.7390 - val_loss: 2.6796\n",
      "Epoch 5/50\n",
      "\u001b[1m43/43\u001b[0m \u001b[32m━━━━━━━━━━━━━━━━━━━━\u001b[0m\u001b[37m\u001b[0m \u001b[1m25s\u001b[0m 569ms/step - accuracy: 0.9391 - loss: 0.1761 - val_accuracy: 0.7197 - val_loss: 5.5099\n",
      "Epoch 6/50\n",
      "\u001b[1m43/43\u001b[0m \u001b[32m━━━━━━━━━━━━━━━━━━━━\u001b[0m\u001b[37m\u001b[0m \u001b[1m24s\u001b[0m 567ms/step - accuracy: 0.9517 - loss: 0.1357 - val_accuracy: 0.6820 - val_loss: 5.0682\n",
      "Epoch 7/50\n",
      "\u001b[1m43/43\u001b[0m \u001b[32m━━━━━━━━━━━━━━━━━━━━\u001b[0m\u001b[37m\u001b[0m \u001b[1m25s\u001b[0m 574ms/step - accuracy: 0.9573 - loss: 0.1188 - val_accuracy: 0.6992 - val_loss: 5.2784\n",
      "Epoch 8/50\n",
      "\u001b[1m43/43\u001b[0m \u001b[32m━━━━━━━━━━━━━━━━━━━━\u001b[0m\u001b[37m\u001b[0m \u001b[1m25s\u001b[0m 576ms/step - accuracy: 0.9628 - loss: 0.1013 - val_accuracy: 0.7386 - val_loss: 14.7042\n",
      "Epoch 9/50\n",
      "\u001b[1m43/43\u001b[0m \u001b[32m━━━━━━━━━━━━━━━━━━━━\u001b[0m\u001b[37m\u001b[0m \u001b[1m25s\u001b[0m 577ms/step - accuracy: 0.9664 - loss: 0.0908 - val_accuracy: 0.7406 - val_loss: 4.2196\n",
      "Epoch 10/50\n",
      "\u001b[1m43/43\u001b[0m \u001b[32m━━━━━━━━━━━━━━━━━━━━\u001b[0m\u001b[37m\u001b[0m \u001b[1m25s\u001b[0m 576ms/step - accuracy: 0.9659 - loss: 0.0914 - val_accuracy: 0.7464 - val_loss: 3.8005\n",
      "Epoch 11/50\n",
      "\u001b[1m43/43\u001b[0m \u001b[32m━━━━━━━━━━━━━━━━━━━━\u001b[0m\u001b[37m\u001b[0m \u001b[1m25s\u001b[0m 576ms/step - accuracy: 0.9679 - loss: 0.0866 - val_accuracy: 0.8146 - val_loss: 2.1786\n",
      "Epoch 12/50\n",
      "\u001b[1m43/43\u001b[0m \u001b[32m━━━━━━━━━━━━━━━━━━━━\u001b[0m\u001b[37m\u001b[0m \u001b[1m25s\u001b[0m 576ms/step - accuracy: 0.9741 - loss: 0.0672 - val_accuracy: 0.8190 - val_loss: 2.9033\n",
      "Epoch 13/50\n",
      "\u001b[1m43/43\u001b[0m \u001b[32m━━━━━━━━━━━━━━━━━━━━\u001b[0m\u001b[37m\u001b[0m \u001b[1m25s\u001b[0m 579ms/step - accuracy: 0.9762 - loss: 0.0595 - val_accuracy: 0.8712 - val_loss: 0.9915\n",
      "Epoch 14/50\n",
      "\u001b[1m43/43\u001b[0m \u001b[32m━━━━━━━━━━━━━━━━━━━━\u001b[0m\u001b[37m\u001b[0m \u001b[1m25s\u001b[0m 578ms/step - accuracy: 0.9775 - loss: 0.0552 - val_accuracy: 0.9097 - val_loss: 0.5959\n",
      "Epoch 15/50\n",
      "\u001b[1m43/43\u001b[0m \u001b[32m━━━━━━━━━━━━━━━━━━━━\u001b[0m\u001b[37m\u001b[0m \u001b[1m25s\u001b[0m 576ms/step - accuracy: 0.9780 - loss: 0.0536 - val_accuracy: 0.9365 - val_loss: 0.2900\n",
      "Epoch 16/50\n",
      "\u001b[1m43/43\u001b[0m \u001b[32m━━━━━━━━━━━━━━━━━━━━\u001b[0m\u001b[37m\u001b[0m \u001b[1m25s\u001b[0m 576ms/step - accuracy: 0.9789 - loss: 0.0510 - val_accuracy: 0.9610 - val_loss: 0.1421\n",
      "Epoch 17/50\n",
      "\u001b[1m43/43\u001b[0m \u001b[32m━━━━━━━━━━━━━━━━━━━━\u001b[0m\u001b[37m\u001b[0m \u001b[1m25s\u001b[0m 578ms/step - accuracy: 0.9793 - loss: 0.0498 - val_accuracy: 0.9692 - val_loss: 0.0964\n",
      "Epoch 18/50\n",
      "\u001b[1m43/43\u001b[0m \u001b[32m━━━━━━━━━━━━━━━━━━━━\u001b[0m\u001b[37m\u001b[0m \u001b[1m25s\u001b[0m 578ms/step - accuracy: 0.9798 - loss: 0.0482 - val_accuracy: 0.9712 - val_loss: 0.0869\n",
      "Epoch 19/50\n",
      "\u001b[1m43/43\u001b[0m \u001b[32m━━━━━━━━━━━━━━━━━━━━\u001b[0m\u001b[37m\u001b[0m \u001b[1m25s\u001b[0m 579ms/step - accuracy: 0.9802 - loss: 0.0470 - val_accuracy: 0.9699 - val_loss: 0.0945\n",
      "Epoch 20/50\n",
      "\u001b[1m43/43\u001b[0m \u001b[32m━━━━━━━━━━━━━━━━━━━━\u001b[0m\u001b[37m\u001b[0m \u001b[1m25s\u001b[0m 577ms/step - accuracy: 0.9789 - loss: 0.0518 - val_accuracy: 0.9160 - val_loss: 0.3620\n",
      "Epoch 21/50\n",
      "\u001b[1m43/43\u001b[0m \u001b[32m━━━━━━━━━━━━━━━━━━━━\u001b[0m\u001b[37m\u001b[0m \u001b[1m25s\u001b[0m 575ms/step - accuracy: 0.9720 - loss: 0.0746 - val_accuracy: 0.8275 - val_loss: 1.3246\n",
      "Epoch 22/50\n",
      "\u001b[1m43/43\u001b[0m \u001b[32m━━━━━━━━━━━━━━━━━━━━\u001b[0m\u001b[37m\u001b[0m \u001b[1m25s\u001b[0m 575ms/step - accuracy: 0.9729 - loss: 0.0724 - val_accuracy: 0.6921 - val_loss: 1.4802\n",
      "Epoch 23/50\n",
      "\u001b[1m43/43\u001b[0m \u001b[32m━━━━━━━━━━━━━━━━━━━━\u001b[0m\u001b[37m\u001b[0m \u001b[1m25s\u001b[0m 575ms/step - accuracy: 0.9777 - loss: 0.0552 - val_accuracy: 0.9706 - val_loss: 0.0836\n",
      "Epoch 24/50\n",
      "\u001b[1m43/43\u001b[0m \u001b[32m━━━━━━━━━━━━━━━━━━━━\u001b[0m\u001b[37m\u001b[0m \u001b[1m25s\u001b[0m 573ms/step - accuracy: 0.9783 - loss: 0.0534 - val_accuracy: 0.9743 - val_loss: 0.0647\n",
      "Epoch 25/50\n",
      "\u001b[1m43/43\u001b[0m \u001b[32m━━━━━━━━━━━━━━━━━━━━\u001b[0m\u001b[37m\u001b[0m \u001b[1m25s\u001b[0m 575ms/step - accuracy: 0.9796 - loss: 0.0493 - val_accuracy: 0.9743 - val_loss: 0.0672\n",
      "Epoch 26/50\n",
      "\u001b[1m43/43\u001b[0m \u001b[32m━━━━━━━━━━━━━━━━━━━━\u001b[0m\u001b[37m\u001b[0m \u001b[1m25s\u001b[0m 575ms/step - accuracy: 0.9808 - loss: 0.0453 - val_accuracy: 0.9751 - val_loss: 0.0644\n",
      "Epoch 27/50\n",
      "\u001b[1m43/43\u001b[0m \u001b[32m━━━━━━━━━━━━━━━━━━━━\u001b[0m\u001b[37m\u001b[0m \u001b[1m25s\u001b[0m 577ms/step - accuracy: 0.9812 - loss: 0.0440 - val_accuracy: 0.9747 - val_loss: 0.0681\n",
      "Epoch 28/50\n",
      "\u001b[1m43/43\u001b[0m \u001b[32m━━━━━━━━━━━━━━━━━━━━\u001b[0m\u001b[37m\u001b[0m \u001b[1m25s\u001b[0m 578ms/step - accuracy: 0.9815 - loss: 0.0433 - val_accuracy: 0.9757 - val_loss: 0.0631\n",
      "Epoch 29/50\n",
      "\u001b[1m43/43\u001b[0m \u001b[32m━━━━━━━━━━━━━━━━━━━━\u001b[0m\u001b[37m\u001b[0m \u001b[1m25s\u001b[0m 577ms/step - accuracy: 0.9818 - loss: 0.0426 - val_accuracy: 0.9760 - val_loss: 0.0626\n",
      "Epoch 30/50\n",
      "\u001b[1m43/43\u001b[0m \u001b[32m━━━━━━━━━━━━━━━━━━━━\u001b[0m\u001b[37m\u001b[0m \u001b[1m25s\u001b[0m 576ms/step - accuracy: 0.9820 - loss: 0.0420 - val_accuracy: 0.9762 - val_loss: 0.0630\n",
      "Epoch 31/50\n",
      "\u001b[1m43/43\u001b[0m \u001b[32m━━━━━━━━━━━━━━━━━━━━\u001b[0m\u001b[37m\u001b[0m \u001b[1m25s\u001b[0m 576ms/step - accuracy: 0.9822 - loss: 0.0415 - val_accuracy: 0.9761 - val_loss: 0.0645\n",
      "Epoch 32/50\n",
      "\u001b[1m43/43\u001b[0m \u001b[32m━━━━━━━━━━━━━━━━━━━━\u001b[0m\u001b[37m\u001b[0m \u001b[1m25s\u001b[0m 577ms/step - accuracy: 0.9825 - loss: 0.0407 - val_accuracy: 0.9766 - val_loss: 0.0628\n",
      "Epoch 33/50\n",
      "\u001b[1m43/43\u001b[0m \u001b[32m━━━━━━━━━━━━━━━━━━━━\u001b[0m\u001b[37m\u001b[0m \u001b[1m25s\u001b[0m 578ms/step - accuracy: 0.9825 - loss: 0.0405 - val_accuracy: 0.9770 - val_loss: 0.0608\n",
      "Epoch 34/50\n",
      "\u001b[1m43/43\u001b[0m \u001b[32m━━━━━━━━━━━━━━━━━━━━\u001b[0m\u001b[37m\u001b[0m \u001b[1m25s\u001b[0m 576ms/step - accuracy: 0.9828 - loss: 0.0400 - val_accuracy: 0.9772 - val_loss: 0.0607\n",
      "Epoch 35/50\n",
      "\u001b[1m43/43\u001b[0m \u001b[32m━━━━━━━━━━━━━━━━━━━━\u001b[0m\u001b[37m\u001b[0m \u001b[1m25s\u001b[0m 578ms/step - accuracy: 0.9830 - loss: 0.0395 - val_accuracy: 0.9759 - val_loss: 0.0702\n",
      "Epoch 36/50\n",
      "\u001b[1m43/43\u001b[0m \u001b[32m━━━━━━━━━━━━━━━━━━━━\u001b[0m\u001b[37m\u001b[0m \u001b[1m25s\u001b[0m 579ms/step - accuracy: 0.9799 - loss: 0.0518 - val_accuracy: 0.6012 - val_loss: 1.2315\n",
      "Epoch 37/50\n",
      "\u001b[1m43/43\u001b[0m \u001b[32m━━━━━━━━━━━━━━━━━━━━\u001b[0m\u001b[37m\u001b[0m \u001b[1m25s\u001b[0m 577ms/step - accuracy: 0.9560 - loss: 0.1436 - val_accuracy: 0.7568 - val_loss: 1.7218\n",
      "Epoch 38/50\n",
      "\u001b[1m43/43\u001b[0m \u001b[32m━━━━━━━━━━━━━━━━━━━━\u001b[0m\u001b[37m\u001b[0m \u001b[1m25s\u001b[0m 577ms/step - accuracy: 0.9697 - loss: 0.0835 - val_accuracy: 0.8316 - val_loss: 1.0682\n",
      "Epoch 39/50\n",
      "\u001b[1m43/43\u001b[0m \u001b[32m━━━━━━━━━━━━━━━━━━━━\u001b[0m\u001b[37m\u001b[0m \u001b[1m25s\u001b[0m 578ms/step - accuracy: 0.9766 - loss: 0.0593 - val_accuracy: 0.9566 - val_loss: 0.1460\n",
      "Epoch 40/50\n",
      "\u001b[1m43/43\u001b[0m \u001b[32m━━━━━━━━━━━━━━━━━━━━\u001b[0m\u001b[37m\u001b[0m \u001b[1m25s\u001b[0m 577ms/step - accuracy: 0.9777 - loss: 0.0558 - val_accuracy: 0.9683 - val_loss: 0.0941\n",
      "Epoch 41/50\n",
      "\u001b[1m43/43\u001b[0m \u001b[32m━━━━━━━━━━━━━━━━━━━━\u001b[0m\u001b[37m\u001b[0m \u001b[1m25s\u001b[0m 577ms/step - accuracy: 0.9796 - loss: 0.0491 - val_accuracy: 0.9763 - val_loss: 0.0582\n",
      "Epoch 42/50\n",
      "\u001b[1m43/43\u001b[0m \u001b[32m━━━━━━━━━━━━━━━━━━━━\u001b[0m\u001b[37m\u001b[0m \u001b[1m25s\u001b[0m 575ms/step - accuracy: 0.9810 - loss: 0.0449 - val_accuracy: 0.9768 - val_loss: 0.0574\n",
      "Epoch 43/50\n",
      "\u001b[1m43/43\u001b[0m \u001b[32m━━━━━━━━━━━━━━━━━━━━\u001b[0m\u001b[37m\u001b[0m \u001b[1m25s\u001b[0m 575ms/step - accuracy: 0.9814 - loss: 0.0435 - val_accuracy: 0.9775 - val_loss: 0.0551\n",
      "Epoch 44/50\n",
      "\u001b[1m43/43\u001b[0m \u001b[32m━━━━━━━━━━━━━━━━━━━━\u001b[0m\u001b[37m\u001b[0m \u001b[1m25s\u001b[0m 577ms/step - accuracy: 0.9818 - loss: 0.0423 - val_accuracy: 0.9771 - val_loss: 0.0573\n",
      "Epoch 45/50\n",
      "\u001b[1m43/43\u001b[0m \u001b[32m━━━━━━━━━━━━━━━━━━━━\u001b[0m\u001b[37m\u001b[0m \u001b[1m25s\u001b[0m 577ms/step - accuracy: 0.9821 - loss: 0.0415 - val_accuracy: 0.9772 - val_loss: 0.0574\n",
      "Epoch 46/50\n",
      "\u001b[1m43/43\u001b[0m \u001b[32m━━━━━━━━━━━━━━━━━━━━\u001b[0m\u001b[37m\u001b[0m \u001b[1m25s\u001b[0m 578ms/step - accuracy: 0.9825 - loss: 0.0408 - val_accuracy: 0.9774 - val_loss: 0.0563\n",
      "Epoch 47/50\n",
      "\u001b[1m43/43\u001b[0m \u001b[32m━━━━━━━━━━━━━━━━━━━━\u001b[0m\u001b[37m\u001b[0m \u001b[1m25s\u001b[0m 576ms/step - accuracy: 0.9827 - loss: 0.0401 - val_accuracy: 0.9770 - val_loss: 0.0593\n",
      "Epoch 48/50\n",
      "\u001b[1m43/43\u001b[0m \u001b[32m━━━━━━━━━━━━━━━━━━━━\u001b[0m\u001b[37m\u001b[0m \u001b[1m25s\u001b[0m 579ms/step - accuracy: 0.9828 - loss: 0.0398 - val_accuracy: 0.9770 - val_loss: 0.0601\n",
      "Epoch 49/50\n",
      "\u001b[1m43/43\u001b[0m \u001b[32m━━━━━━━━━━━━━━━━━━━━\u001b[0m\u001b[37m\u001b[0m \u001b[1m25s\u001b[0m 577ms/step - accuracy: 0.9831 - loss: 0.0392 - val_accuracy: 0.9768 - val_loss: 0.0612\n",
      "Epoch 50/50\n",
      "\u001b[1m43/43\u001b[0m \u001b[32m━━━━━━━━━━━━━━━━━━━━\u001b[0m\u001b[37m\u001b[0m \u001b[1m25s\u001b[0m 578ms/step - accuracy: 0.9832 - loss: 0.0388 - val_accuracy: 0.9770 - val_loss: 0.0599\n"
     ]
    }
   ],
   "source": [
    "history = model.fit(X_train, y_train_cat, \n",
    "                    batch_size = 8, \n",
    "                    verbose=1, \n",
    "                    epochs=50, \n",
    "                    validation_data=(X_test, y_test_cat), \n",
    "                    #class_weight=class_weights,\n",
    "                    shuffle=False)\n",
    "                    \n",
    "\n",
    "\n",
    "# model.save('test.hdf5')"
   ]
  },
  {
   "cell_type": "code",
   "execution_count": 7,
   "metadata": {},
   "outputs": [
    {
     "name": "stderr",
     "output_type": "stream",
     "text": [
      "WARNING:absl:You are saving your model as an HDF5 file via `model.save()` or `keras.saving.save_model(model)`. This file format is considered legacy. We recommend using instead the native Keras format, e.g. `model.save('my_model.keras')` or `keras.saving.save_model(model, 'my_model.keras')`. \n"
     ]
    }
   ],
   "source": [
    "model.save('models/unet512_256_256_combined_7_classes_50epochs_9832acc_1.2.hdf5')"
   ]
  },
  {
   "cell_type": "code",
   "execution_count": 9,
   "metadata": {},
   "outputs": [],
   "source": [
    "# AFTER TRAINING"
   ]
  },
  {
   "cell_type": "code",
   "execution_count": 11,
   "metadata": {},
   "outputs": [
    {
     "name": "stdout",
     "output_type": "stream",
     "text": [
      "(256, 256, 1)\n",
      "(1, 256, 256, 1)\n"
     ]
    },
    {
     "name": "stderr",
     "output_type": "stream",
     "text": [
      "/home/abdulrauf/Projects/anaconda3/envs/tf_gpu/lib/python3.10/site-packages/keras/src/models/functional.py:225: UserWarning: The structure of `inputs` doesn't match the expected structure: ['keras_tensor_328']. Received: the structure of inputs=*\n",
      "  warnings.warn(\n"
     ]
    },
    {
     "name": "stdout",
     "output_type": "stream",
     "text": [
      "\u001b[1m1/1\u001b[0m \u001b[32m━━━━━━━━━━━━━━━━━━━━\u001b[0m\u001b[37m\u001b[0m \u001b[1m1s\u001b[0m 640ms/step\n"
     ]
    },
    {
     "data": {
      "image/png": "[encoded data removed]",
      "text/plain": [
       "<Figure size 1200x800 with 3 Axes>"
      ]
     },
     "metadata": {},
     "output_type": "display_data"
    }
   ],
   "source": [
    "\n",
    "def get_model2():\n",
    "    return unet(n_class=8, input_size=(256, 256, 1))\n",
    "\n",
    "def get_model():\n",
    "    return multi_unet_model()\n",
    "model = get_model()\n",
    "\n",
    "model.load_weights('/home/abdulrauf/Projects/MakhiMeter-Training/models/checkpoints/unet_256_bg_removed_9600_checkpoint_epoch-19_val_loss-0.1870.keras')  \n",
    "import random\n",
    "# print(X_test)\n",
    "# test_img_number = random.randint(0, len(X_test))\n",
    "# test_img = X_test[test_img_number]\n",
    "test_img = cv2.imread('/home/abdulrauf/Projects/MakhiMeter-Training/blurred_image.png', 0)\n",
    "test_img = np.array(test_img)\n",
    "test_img = normalize(test_img, axis=1)\n",
    "test_img = np.expand_dims(test_img, axis=-1)\n",
    "test_img_input = np.expand_dims(test_img, axis=-1)\n",
    "print(test_img.shape)\n",
    "ground_truth=cv2.imread('/home/abdulrauf/Projects/MakhiMeter-Training/data/training/model_v1.2/experiment_2/with_rotation/size 512/labeled encoded/rot_90_aug_0_D.annulipes_f_01.png', 0)\n",
    "test_img_norm=test_img[:,:,0][:,:,None]\n",
    "test_img_input=np.expand_dims(test_img_norm, 0)\n",
    "print(test_img_input.shape)\n",
    "prediction = (model.predict(test_img_input))\n",
    "predicted_img=np.argmax(prediction, axis=3)[0,:,:]\n",
    "predicted_img\n",
    "\n",
    "plt.figure(figsize=(12, 8))\n",
    "plt.subplot(231)\n",
    "plt.title('Testing Image')\n",
    "plt.imshow(test_img[:,:, 0], cmap='gray')\n",
    "plt.subplot(232)\n",
    "plt.title('Testing Label')\n",
    "plt.imshow(ground_truth, cmap='jet')\n",
    "plt.subplot(233)\n",
    "plt.title('Prediction on test image')\n",
    "plt.imshow(predicted_img, cmap='jet')\n",
    "plt.show()"
   ]
  },
  {
   "cell_type": "code",
   "execution_count": null,
   "metadata": {},
   "outputs": [],
   "source": []
  },
  {
   "cell_type": "code",
   "execution_count": 92,
   "metadata": {},
   "outputs": [],
   "source": [
    "from PIL import Image\n",
    "\n",
    "output_path = 'predicted_image3.png'\n",
    "predicted_img_resized = cv2.resize(predicted_img, (720, 480), interpolation=cv2.INTER_NEAREST)\n",
    "\n",
    "predicted_img_scaled = (predicted_img_resized / predicted_img_resized.max()) * 255  # Scale the prediction to 0-255\n",
    "predicted_img_scaled = predicted_img_scaled.astype(np.uint8)  # Convert to uint8\n",
    "\n",
    "# Using PIL to save as grayscale\n",
    "Image.fromarray(predicted_img_scaled).save(output_path)"
   ]
  },
  {
   "cell_type": "code",
   "execution_count": 8,
   "metadata": {},
   "outputs": [
    {
     "name": "stdout",
     "output_type": "stream",
     "text": [
      "0 input_layer_1\n",
      "1 conv2d_19\n",
      "2 dropout_9\n",
      "3 conv2d_20\n",
      "4 max_pooling2d_4\n",
      "5 conv2d_21\n",
      "6 dropout_10\n",
      "7 conv2d_22\n",
      "8 max_pooling2d_5\n",
      "9 conv2d_23\n",
      "10 dropout_11\n",
      "11 conv2d_24\n",
      "12 max_pooling2d_6\n",
      "13 conv2d_25\n",
      "14 dropout_12\n",
      "15 conv2d_26\n",
      "16 max_pooling2d_7\n",
      "17 conv2d_27\n",
      "18 dropout_13\n",
      "19 conv2d_28\n",
      "20 conv2d_transpose_4\n",
      "21 concatenate_4\n",
      "22 conv2d_29\n",
      "23 dropout_14\n",
      "24 conv2d_30\n",
      "25 conv2d_transpose_5\n",
      "26 concatenate_5\n",
      "27 conv2d_31\n",
      "28 dropout_15\n",
      "29 conv2d_32\n",
      "30 conv2d_transpose_6\n",
      "31 concatenate_6\n",
      "32 conv2d_33\n",
      "33 dropout_16\n",
      "34 conv2d_34\n",
      "35 conv2d_transpose_7\n",
      "36 concatenate_7\n",
      "37 conv2d_35\n",
      "38 dropout_17\n",
      "39 conv2d_36\n",
      "40 conv2d_37\n"
     ]
    }
   ],
   "source": [
    "for i, layer in enumerate(model.layers):\n",
    "    print(i, layer.name)"
   ]
  },
  {
   "cell_type": "code",
   "execution_count": 18,
   "metadata": {},
   "outputs": [],
   "source": [
    "from keras.models import Model\n",
    "layer_outputs = [model.layers[1].output, model.layers[8].output, model.layers[15].output, model.layers[25].output, model.layers[32].output, model.layers[38].output]  # adjust indices based on your model structure\n",
    "activation_model = Model(inputs=model.input, outputs=layer_outputs)"
   ]
  },
  {
   "cell_type": "code",
   "execution_count": 19,
   "metadata": {},
   "outputs": [
    {
     "name": "stdout",
     "output_type": "stream",
     "text": [
      "\u001b[1m1/1\u001b[0m \u001b[32m━━━━━━━━━━━━━━━━━━━━\u001b[0m\u001b[37m\u001b[0m \u001b[1m1s\u001b[0m 752ms/step\n"
     ]
    }
   ],
   "source": [
    "activations = (activation_model.predict(test_img_input))"
   ]
  },
  {
   "cell_type": "code",
   "execution_count": 37,
   "metadata": {},
   "outputs": [
    {
     "data": {
      "image/png": "[encoded data removed]",
      "text/plain": [
       "<Figure size 1600x400 with 4 Axes>"
      ]
     },
     "metadata": {},
     "output_type": "display_data"
    }
   ],
   "source": [
    "import matplotlib.pyplot as plt\n",
    "\n",
    "# Choose which layer output you want to visualize\n",
    "first_layer_activation = activations[2]  # This is the output of the first layer chosen in Step 2\n",
    "\n",
    "# Let's visualize the first 4 feature maps\n",
    "plt.figure(figsize=(16, 4))\n",
    "for i in range(4):  # adjust this to show more or fewer filters\n",
    "    plt.subplot(1, 4, i + 1)\n",
    "    plt.imshow(first_layer_activation[0, :, :, i], cmap='jet')\n",
    "    plt.axis('off')\n",
    "plt.show()\n"
   ]
  }
 ],
 "metadata": {
  "kernelspec": {
   "display_name": "tf_gpu",
   "language": "python",
   "name": "python3"
  },
  "language_info": {
   "codemirror_mode": {
    "name": "ipython",
    "version": 3
   },
   "file_extension": ".py",
   "mimetype": "text/x-python",
   "name": "python",
   "nbconvert_exporter": "python",
   "pygments_lexer": "ipython3",
   "version": "3.10.15"
  }
 },
 "nbformat": 4,
 "nbformat_minor": 4
}
